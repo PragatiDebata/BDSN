{
  "nbformat": 4,
  "nbformat_minor": 0,
  "metadata": {
    "colab": {
      "name": "BDSN-A21022.ipynb",
      "provenance": [],
      "collapsed_sections": [],
      "mount_file_id": "1tsI2XjTm_PtAiGjTP_ZsXYs4_XY4afO9",
      "authorship_tag": "ABX9TyMnyeCbdU4VzjkOvM1WRhvw",
      "include_colab_link": true
    },
    "kernelspec": {
      "name": "python3",
      "display_name": "Python 3"
    },
    "language_info": {
      "name": "python"
    }
  },
  "cells": [
    {
      "cell_type": "markdown",
      "metadata": {
        "id": "view-in-github",
        "colab_type": "text"
      },
      "source": [
        "<a href=\"https://colab.research.google.com/github/PragatiDebata/BDSN/blob/main/BDSN_A21022.ipynb\" target=\"_parent\"><img src=\"https://colab.research.google.com/assets/colab-badge.svg\" alt=\"Open In Colab\"/></a>"
      ]
    },
    {
      "cell_type": "markdown",
      "source": [
        "## BDSN ASSIGNMENT"
      ],
      "metadata": {
        "id": "oyFyingdZkZO"
      }
    },
    {
      "cell_type": "markdown",
      "source": [
        "### **Research Objective**: To discover the clusters of Uber data based on the longitude and latitude, then we will analyze the cluster centers by date/time."
      ],
      "metadata": {
        "id": "bEbDLYPbtoGi"
      }
    },
    {
      "cell_type": "markdown",
      "source": [
        "To start our spark environment we will install JAVA at first."
      ],
      "metadata": {
        "id": "wZ-kcunOt5kC"
      }
    },
    {
      "cell_type": "code",
      "source": [
        "!apt update > /dev/null\n",
        "!apt install openjdk-8-jdk-headless -qq > /dev/null"
      ],
      "metadata": {
        "colab": {
          "base_uri": "https://localhost:8080/"
        },
        "id": "hdG-KD8KC3Gg",
        "outputId": "d89a677c-c873-461f-e288-7cfde2b91aa8"
      },
      "execution_count": 1,
      "outputs": [
        {
          "output_type": "stream",
          "name": "stdout",
          "text": [
            "\n",
            "WARNING: apt does not have a stable CLI interface. Use with caution in scripts.\n",
            "\n",
            "\n",
            "WARNING: apt does not have a stable CLI interface. Use with caution in scripts.\n",
            "\n"
          ]
        }
      ]
    },
    {
      "cell_type": "markdown",
      "source": [
        "We will create spark environment and in the next cell we will import all the libraries needed for this project."
      ],
      "metadata": {
        "id": "Zp5aKG3OuFUs"
      }
    },
    {
      "cell_type": "code",
      "source": [
        "# Get latest and correct version of Spark\n",
        "#\n",
        "# if the current version of Spark is not used, there may be errors\n",
        "# check here for current versions http://apache.osuosl.org/spark\n",
        "#\n",
        "#!wget -q http://apache.osuosl.org/spark/spark-2.2.2/spark-2.2.2-bin-hadoop2.7.tgz\n",
        "#!wget -q http://apache.osuosl.org/spark/spark-2.4.0/spark-2.4.0-bin-hadoop2.7.tgz\n",
        "#!wget -q http://apache.osuosl.org/spark/spark-2.4.3/spark-2.4.3-bin-hadoop2.7.tgz\n",
        "#!wget -q http://apache.osuosl.org/spark/spark-2.4.4/spark-2.4.4-bin-hadoop2.7.tgz\n",
        "#!wget -q http://apache.osuosl.org/spark/spark-2.4.5/spark-2.4.5-bin-hadoop2.7.tgz\n",
        "#!wget -q http://apache.osuosl.org/spark/spark-3.0.1/spark-3.0.1-bin-hadoop3.2.tgz\n",
        "!wget -q http://apache.osuosl.org/spark/spark-3.1.2/spark-3.1.2-bin-hadoop3.2.tgz\n",
        "\n",
        "#!tar xf spark-2.4.5-bin-hadoop2.7.tgz\n",
        "#!tar xf spark-3.0.1-bin-hadoop3.2.tgz\n",
        "!tar xf spark-3.1.2-bin-hadoop3.2.tgz\n",
        "#!pip install -q findspark\n",
        "!pip install -q pyspark\n",
        "\n",
        "import os\n",
        "os.environ[\"JAVA_HOME\"] = \"/usr/lib/jvm/java-8-openjdk-amd64\"\n",
        "#os.environ[\"SPARK_HOME\"] = \"/content/spark-2.4.0-bin-hadoop2.7\"\n",
        "#os.environ[\"SPARK_HOME\"] = \"/content/spark-2.4.4-bin-hadoop2.7\"\n",
        "#os.environ[\"SPARK_HOME\"] = \"/content/spark-2.4.5-bin-hadoop2.7\"\n",
        "#os.environ[\"SPARK_HOME\"] = \"/content/spark-3.0.1-bin-hadoop3.2\"\n",
        "os.environ[\"SPARK_HOME\"] = \"/content/spark-3.1.2-bin-hadoop3.2\"\n"
      ],
      "metadata": {
        "colab": {
          "base_uri": "https://localhost:8080/"
        },
        "id": "490hGaWvC3Bw",
        "outputId": "3bdf2065-f84f-48c2-d830-1b79bad1ec18"
      },
      "execution_count": 2,
      "outputs": [
        {
          "output_type": "stream",
          "name": "stdout",
          "text": [
            "\u001b[K     |████████████████████████████████| 281.4 MB 35 kB/s \n",
            "\u001b[K     |████████████████████████████████| 198 kB 44.6 MB/s \n",
            "\u001b[?25h  Building wheel for pyspark (setup.py) ... \u001b[?25l\u001b[?25hdone\n"
          ]
        }
      ]
    },
    {
      "cell_type": "code",
      "source": [
        "from pyspark.sql import SparkSession\n",
        "#spark = SparkSession.builder.master(\"local[*]\").getOrCreate()\n",
        "# note UI port switched from default 4040 to 4050 to avoid clash with ngrok\n",
        "spark = SparkSession.builder.master(\"local[*]\").config('spark.ui.port', '4050').getOrCreate()"
      ],
      "metadata": {
        "id": "7Bh-yTT0C2-S"
      },
      "execution_count": 3,
      "outputs": []
    },
    {
      "cell_type": "code",
      "source": [
        "sc = spark.sparkContext"
      ],
      "metadata": {
        "id": "VgJRGlofC28i"
      },
      "execution_count": 4,
      "outputs": []
    },
    {
      "cell_type": "code",
      "source": [
        "sc"
      ],
      "metadata": {
        "colab": {
          "base_uri": "https://localhost:8080/",
          "height": 196
        },
        "id": "d4Cjuj2wDc4b",
        "outputId": "05cec7cb-031b-488e-dee8-471c7e89100a"
      },
      "execution_count": 5,
      "outputs": [
        {
          "output_type": "execute_result",
          "data": {
            "text/html": [
              "\n",
              "        <div>\n",
              "            <p><b>SparkContext</b></p>\n",
              "\n",
              "            <p><a href=\"http://1db22116aca8:4050\">Spark UI</a></p>\n",
              "\n",
              "            <dl>\n",
              "              <dt>Version</dt>\n",
              "                <dd><code>v3.1.2</code></dd>\n",
              "              <dt>Master</dt>\n",
              "                <dd><code>local[*]</code></dd>\n",
              "              <dt>AppName</dt>\n",
              "                <dd><code>pyspark-shell</code></dd>\n",
              "            </dl>\n",
              "        </div>\n",
              "        "
            ],
            "text/plain": [
              "<SparkContext master=local[*] appName=pyspark-shell>"
            ]
          },
          "metadata": {},
          "execution_count": 5
        }
      ]
    },
    {
      "cell_type": "markdown",
      "source": [
        "Importing all the libaries"
      ],
      "metadata": {
        "id": "B49VuOZzuhJ9"
      }
    },
    {
      "cell_type": "code",
      "execution_count": 55,
      "metadata": {
        "id": "XCJEyA4MCASV"
      },
      "outputs": [],
      "source": [
        "import os\n",
        "import pandas as pd\n",
        "import numpy as np\n",
        "\n",
        "from pyspark import SparkConf, SparkContext\n",
        "from pyspark.sql import SparkSession, SQLContext\n",
        "\n",
        "from pyspark.sql.types import *\n",
        "from pyspark.sql.functions import udf, col\n",
        "import pyspark.sql.functions as F\n",
        "\n",
        "from pyspark.ml.feature import VectorAssembler\n",
        "\n",
        "from pyspark.ml.clustering import KMeans, GaussianMixture\n",
        "from pyspark.sql.functions import isnan, when, count, col\n",
        "import numpy as np"
      ]
    },
    {
      "cell_type": "markdown",
      "source": [
        "# Visualization"
      ],
      "metadata": {
        "id": "drxHqu7guoBF"
      }
    },
    {
      "cell_type": "code",
      "source": [
        "from IPython.core.interactiveshell import InteractiveShell\n",
        "InteractiveShell.ast_node_interactivity = \"all\"\n",
        "\n",
        "pd.set_option('display.max_columns', 200)\n",
        "pd.set_option('display.max_colwidth', 400)\n",
        "\n",
        "import matplotlib.pyplot as plt\n",
        "plt.rc('figure', figsize=(18, 4))\n",
        "\n",
        "import seaborn as sns\n",
        "sns.set(context='notebook', style='whitegrid', rc={'figure.figsize': (18,4)})\n",
        "\n",
        "np.set_printoptions(precision=4, suppress=True)\n",
        "\n",
        "%matplotlib inline\n",
        "%config InlineBackend.figure_format = 'retina'"
      ],
      "metadata": {
        "id": "mfiTGJkJCcVD"
      },
      "execution_count": 7,
      "outputs": []
    },
    {
      "cell_type": "markdown",
      "source": [
        "Setting random seed for notebook reproducability"
      ],
      "metadata": {
        "id": "wfBZDMHpuvjc"
      }
    },
    {
      "cell_type": "code",
      "source": [
        "\n",
        "rnd_seed=42\n",
        "np.random.seed=rnd_seed\n",
        "np.random.set_state=rnd_seed"
      ],
      "metadata": {
        "id": "B1-mi3DSDj8T"
      },
      "execution_count": 8,
      "outputs": []
    },
    {
      "cell_type": "code",
      "source": [
        ""
      ],
      "metadata": {
        "id": "0YS-tPYTuzX_"
      },
      "execution_count": 8,
      "outputs": []
    },
    {
      "cell_type": "markdown",
      "source": [
        "### Dataset: Importing the dataset from drive.\n",
        "\n",
        "Our data is Uber trip data from http://data.beta.nyc/dataset/uber-trip-data-foiled-apr-sep-2014. In this, we will discover the clusters of Uber data based on the longitude and latitude, then we will analyze the cluster centers by date/time."
      ],
      "metadata": {
        "id": "y4jfoAifuyRr"
      }
    },
    {
      "cell_type": "code",
      "source": [
        "df=pd.read_csv('/content/drive/MyDrive/Colab Notebooks/uber.csv')"
      ],
      "metadata": {
        "id": "P62OviDGDnWW"
      },
      "execution_count": 9,
      "outputs": []
    },
    {
      "cell_type": "code",
      "source": [
        "df.head()"
      ],
      "metadata": {
        "colab": {
          "base_uri": "https://localhost:8080/",
          "height": 206
        },
        "id": "tTGtL1g0D3GV",
        "outputId": "df1ec519-2a49-4c73-b44f-81c3d10e6e9a"
      },
      "execution_count": 10,
      "outputs": [
        {
          "output_type": "execute_result",
          "data": {
            "text/html": [
              "\n",
              "  <div id=\"df-357bd72a-ccae-4a5c-812e-f02c0a5c81d2\">\n",
              "    <div class=\"colab-df-container\">\n",
              "      <div>\n",
              "<style scoped>\n",
              "    .dataframe tbody tr th:only-of-type {\n",
              "        vertical-align: middle;\n",
              "    }\n",
              "\n",
              "    .dataframe tbody tr th {\n",
              "        vertical-align: top;\n",
              "    }\n",
              "\n",
              "    .dataframe thead th {\n",
              "        text-align: right;\n",
              "    }\n",
              "</style>\n",
              "<table border=\"1\" class=\"dataframe\">\n",
              "  <thead>\n",
              "    <tr style=\"text-align: right;\">\n",
              "      <th></th>\n",
              "      <th>2014-08-01 00:00:00</th>\n",
              "      <th>40.729</th>\n",
              "      <th>-73.9422</th>\n",
              "      <th>B02598</th>\n",
              "    </tr>\n",
              "  </thead>\n",
              "  <tbody>\n",
              "    <tr>\n",
              "      <th>0</th>\n",
              "      <td>2014-08-01 00:00:00</td>\n",
              "      <td>40.7476</td>\n",
              "      <td>-73.9871</td>\n",
              "      <td>B02598</td>\n",
              "    </tr>\n",
              "    <tr>\n",
              "      <th>1</th>\n",
              "      <td>2014-08-01 00:00:00</td>\n",
              "      <td>40.7424</td>\n",
              "      <td>-74.0044</td>\n",
              "      <td>B02598</td>\n",
              "    </tr>\n",
              "    <tr>\n",
              "      <th>2</th>\n",
              "      <td>2014-08-01 00:00:00</td>\n",
              "      <td>40.7510</td>\n",
              "      <td>-73.9869</td>\n",
              "      <td>B02598</td>\n",
              "    </tr>\n",
              "    <tr>\n",
              "      <th>3</th>\n",
              "      <td>2014-08-01 00:00:00</td>\n",
              "      <td>40.7406</td>\n",
              "      <td>-73.9902</td>\n",
              "      <td>B02598</td>\n",
              "    </tr>\n",
              "    <tr>\n",
              "      <th>4</th>\n",
              "      <td>2014-08-01 00:00:00</td>\n",
              "      <td>40.6994</td>\n",
              "      <td>-73.9591</td>\n",
              "      <td>B02617</td>\n",
              "    </tr>\n",
              "  </tbody>\n",
              "</table>\n",
              "</div>\n",
              "      <button class=\"colab-df-convert\" onclick=\"convertToInteractive('df-357bd72a-ccae-4a5c-812e-f02c0a5c81d2')\"\n",
              "              title=\"Convert this dataframe to an interactive table.\"\n",
              "              style=\"display:none;\">\n",
              "        \n",
              "  <svg xmlns=\"http://www.w3.org/2000/svg\" height=\"24px\"viewBox=\"0 0 24 24\"\n",
              "       width=\"24px\">\n",
              "    <path d=\"M0 0h24v24H0V0z\" fill=\"none\"/>\n",
              "    <path d=\"M18.56 5.44l.94 2.06.94-2.06 2.06-.94-2.06-.94-.94-2.06-.94 2.06-2.06.94zm-11 1L8.5 8.5l.94-2.06 2.06-.94-2.06-.94L8.5 2.5l-.94 2.06-2.06.94zm10 10l.94 2.06.94-2.06 2.06-.94-2.06-.94-.94-2.06-.94 2.06-2.06.94z\"/><path d=\"M17.41 7.96l-1.37-1.37c-.4-.4-.92-.59-1.43-.59-.52 0-1.04.2-1.43.59L10.3 9.45l-7.72 7.72c-.78.78-.78 2.05 0 2.83L4 21.41c.39.39.9.59 1.41.59.51 0 1.02-.2 1.41-.59l7.78-7.78 2.81-2.81c.8-.78.8-2.07 0-2.86zM5.41 20L4 18.59l7.72-7.72 1.47 1.35L5.41 20z\"/>\n",
              "  </svg>\n",
              "      </button>\n",
              "      \n",
              "  <style>\n",
              "    .colab-df-container {\n",
              "      display:flex;\n",
              "      flex-wrap:wrap;\n",
              "      gap: 12px;\n",
              "    }\n",
              "\n",
              "    .colab-df-convert {\n",
              "      background-color: #E8F0FE;\n",
              "      border: none;\n",
              "      border-radius: 50%;\n",
              "      cursor: pointer;\n",
              "      display: none;\n",
              "      fill: #1967D2;\n",
              "      height: 32px;\n",
              "      padding: 0 0 0 0;\n",
              "      width: 32px;\n",
              "    }\n",
              "\n",
              "    .colab-df-convert:hover {\n",
              "      background-color: #E2EBFA;\n",
              "      box-shadow: 0px 1px 2px rgba(60, 64, 67, 0.3), 0px 1px 3px 1px rgba(60, 64, 67, 0.15);\n",
              "      fill: #174EA6;\n",
              "    }\n",
              "\n",
              "    [theme=dark] .colab-df-convert {\n",
              "      background-color: #3B4455;\n",
              "      fill: #D2E3FC;\n",
              "    }\n",
              "\n",
              "    [theme=dark] .colab-df-convert:hover {\n",
              "      background-color: #434B5C;\n",
              "      box-shadow: 0px 1px 3px 1px rgba(0, 0, 0, 0.15);\n",
              "      filter: drop-shadow(0px 1px 2px rgba(0, 0, 0, 0.3));\n",
              "      fill: #FFFFFF;\n",
              "    }\n",
              "  </style>\n",
              "\n",
              "      <script>\n",
              "        const buttonEl =\n",
              "          document.querySelector('#df-357bd72a-ccae-4a5c-812e-f02c0a5c81d2 button.colab-df-convert');\n",
              "        buttonEl.style.display =\n",
              "          google.colab.kernel.accessAllowed ? 'block' : 'none';\n",
              "\n",
              "        async function convertToInteractive(key) {\n",
              "          const element = document.querySelector('#df-357bd72a-ccae-4a5c-812e-f02c0a5c81d2');\n",
              "          const dataTable =\n",
              "            await google.colab.kernel.invokeFunction('convertToInteractive',\n",
              "                                                     [key], {});\n",
              "          if (!dataTable) return;\n",
              "\n",
              "          const docLinkHtml = 'Like what you see? Visit the ' +\n",
              "            '<a target=\"_blank\" href=https://colab.research.google.com/notebooks/data_table.ipynb>data table notebook</a>'\n",
              "            + ' to learn more about interactive tables.';\n",
              "          element.innerHTML = '';\n",
              "          dataTable['output_type'] = 'display_data';\n",
              "          await google.colab.output.renderOutput(dataTable, element);\n",
              "          const docLink = document.createElement('div');\n",
              "          docLink.innerHTML = docLinkHtml;\n",
              "          element.appendChild(docLink);\n",
              "        }\n",
              "      </script>\n",
              "    </div>\n",
              "  </div>\n",
              "  "
            ],
            "text/plain": [
              "   2014-08-01 00:00:00   40.729  -73.9422  B02598\n",
              "0  2014-08-01 00:00:00  40.7476  -73.9871  B02598\n",
              "1  2014-08-01 00:00:00  40.7424  -74.0044  B02598\n",
              "2  2014-08-01 00:00:00  40.7510  -73.9869  B02598\n",
              "3  2014-08-01 00:00:00  40.7406  -73.9902  B02598\n",
              "4  2014-08-01 00:00:00  40.6994  -73.9591  B02617"
            ]
          },
          "metadata": {},
          "execution_count": 10
        }
      ]
    },
    {
      "cell_type": "code",
      "source": [
        "UBER_DATA = '/content/drive/MyDrive/Colab Notebooks/uber.csv'"
      ],
      "metadata": {
        "id": "m1pxlt24Ecpn"
      },
      "execution_count": 11,
      "outputs": []
    },
    {
      "cell_type": "code",
      "source": [
        "schema = StructType([\n",
        "    StructField(\"dt\", TimestampType(), nullable=False),\n",
        "    StructField(\"lat\", DoubleType(), nullable=False),\n",
        "    StructField(\"lon\", DoubleType(), nullable=False),\n",
        "    StructField(\"base\", StringType(), nullable=True)]\n",
        "  )"
      ],
      "metadata": {
        "id": "R2Iq2mcQD5OI"
      },
      "execution_count": 12,
      "outputs": []
    },
    {
      "cell_type": "markdown",
      "source": [
        "Cache means to load the dataset in Cache memory.\n",
        "We can load the results quickly when various different functions are applied on as Cache memory is the fastest available memory."
      ],
      "metadata": {
        "id": "S_pklPRqKv8q"
      }
    },
    {
      "cell_type": "code",
      "source": [
        "uber_df = spark.read.csv(path=UBER_DATA, schema=schema)\n",
        "uber_df.cache()"
      ],
      "metadata": {
        "colab": {
          "base_uri": "https://localhost:8080/"
        },
        "id": "yXL1HMgaEGqo",
        "outputId": "ba1fdffe-3cc7-48d4-d8f8-2d913ea1f8a1"
      },
      "execution_count": 13,
      "outputs": [
        {
          "output_type": "execute_result",
          "data": {
            "text/plain": [
              "DataFrame[dt: timestamp, lat: double, lon: double, base: string]"
            ]
          },
          "metadata": {},
          "execution_count": 13
        }
      ]
    },
    {
      "cell_type": "markdown",
      "source": [
        "The first 5 rows of our data"
      ],
      "metadata": {
        "id": "9jAELKqfv2I9"
      }
    },
    {
      "cell_type": "code",
      "source": [
        "uber_df.show(5)"
      ],
      "metadata": {
        "colab": {
          "base_uri": "https://localhost:8080/"
        },
        "id": "uWh3e8brELJd",
        "outputId": "f72ff45a-78f6-4dda-b6fe-cc14807c4c25"
      },
      "execution_count": 14,
      "outputs": [
        {
          "output_type": "stream",
          "name": "stdout",
          "text": [
            "+-------------------+-------+--------+------+\n",
            "|                 dt|    lat|     lon|  base|\n",
            "+-------------------+-------+--------+------+\n",
            "|2014-08-01 00:00:00| 40.729|-73.9422|B02598|\n",
            "|2014-08-01 00:00:00|40.7476|-73.9871|B02598|\n",
            "|2014-08-01 00:00:00|40.7424|-74.0044|B02598|\n",
            "|2014-08-01 00:00:00| 40.751|-73.9869|B02598|\n",
            "|2014-08-01 00:00:00|40.7406|-73.9902|B02598|\n",
            "+-------------------+-------+--------+------+\n",
            "only showing top 5 rows\n",
            "\n"
          ]
        }
      ]
    },
    {
      "cell_type": "markdown",
      "source": [
        "The data set has the following schema:"
      ],
      "metadata": {
        "id": "SQvccpQsv9S-"
      }
    },
    {
      "cell_type": "code",
      "source": [
        "uber_df.printSchema()"
      ],
      "metadata": {
        "colab": {
          "base_uri": "https://localhost:8080/"
        },
        "id": "hws5SD6rE0wt",
        "outputId": "e42bc14e-819e-4ce1-df81-16e27f139635"
      },
      "execution_count": 15,
      "outputs": [
        {
          "output_type": "stream",
          "name": "stdout",
          "text": [
            "root\n",
            " |-- dt: timestamp (nullable = true)\n",
            " |-- lat: double (nullable = true)\n",
            " |-- lon: double (nullable = true)\n",
            " |-- base: string (nullable = true)\n",
            "\n"
          ]
        }
      ]
    },
    {
      "cell_type": "code",
      "source": [
        "uber_df.count()"
      ],
      "metadata": {
        "colab": {
          "base_uri": "https://localhost:8080/"
        },
        "id": "sLqdr0ivE-zg",
        "outputId": "855bee8b-0734-476b-922f-272263d7e88b"
      },
      "execution_count": 16,
      "outputs": [
        {
          "output_type": "execute_result",
          "data": {
            "text/plain": [
              "829275"
            ]
          },
          "metadata": {},
          "execution_count": 16
        }
      ]
    },
    {
      "cell_type": "markdown",
      "source": [
        "# Statistics Summary\n",
        "\n",
        "Spark DataFrames include some built-in functions for statistical processing. The describe() function performs summary statistics calculations on all numeric columns and returns them as a DataFrame. Lets use it and see what all we get "
      ],
      "metadata": {
        "id": "4xoU_HsBwFXp"
      }
    },
    {
      "cell_type": "code",
      "source": [
        "uber_df.describe([\"dt\", \"lat\", \"lon\"]).show()"
      ],
      "metadata": {
        "colab": {
          "base_uri": "https://localhost:8080/"
        },
        "id": "UCYy44EcFBWx",
        "outputId": "5bc458a7-ff09-49eb-8db1-7256e3dc746a"
      },
      "execution_count": 17,
      "outputs": [
        {
          "output_type": "stream",
          "name": "stdout",
          "text": [
            "+-------+--------------------+-------------------+\n",
            "|summary|                 lat|                lon|\n",
            "+-------+--------------------+-------------------+\n",
            "|  count|              829275|             829275|\n",
            "|   mean|   40.73778073582407| -73.97016031317641|\n",
            "| stddev|0.043628060846854146|0.06148272834515576|\n",
            "|    min|             39.6569|           -74.7737|\n",
            "|    max|             41.3182|           -72.3359|\n",
            "+-------+--------------------+-------------------+\n",
            "\n"
          ]
        }
      ]
    },
    {
      "cell_type": "code",
      "source": [
        "feature_columns = ['lat', 'lon']"
      ],
      "metadata": {
        "id": "sIqpSPbBFH16"
      },
      "execution_count": 18,
      "outputs": []
    },
    {
      "cell_type": "markdown",
      "source": [
        "Vectorizing the numerical features first"
      ],
      "metadata": {
        "id": "GPdIX1svxnPi"
      }
    },
    {
      "cell_type": "code",
      "source": [
        "feature_assembler = VectorAssembler(inputCols=feature_columns, outputCol=\"features\")"
      ],
      "metadata": {
        "id": "eI5saaHvFaER"
      },
      "execution_count": 19,
      "outputs": []
    },
    {
      "cell_type": "code",
      "source": [
        "uber_assembled_df = feature_assembler.transform(uber_df)\n",
        "uber_assembled_df.cache()"
      ],
      "metadata": {
        "colab": {
          "base_uri": "https://localhost:8080/"
        },
        "id": "DieMAHl-FctA",
        "outputId": "ade04db5-08f3-4bfe-b39d-4e8061cfd674"
      },
      "execution_count": 20,
      "outputs": [
        {
          "output_type": "execute_result",
          "data": {
            "text/plain": [
              "DataFrame[dt: timestamp, lat: double, lon: double, base: string, features: vector]"
            ]
          },
          "metadata": {},
          "execution_count": 20
        }
      ]
    },
    {
      "cell_type": "code",
      "source": [
        "uber_assembled_df.show(5)"
      ],
      "metadata": {
        "colab": {
          "base_uri": "https://localhost:8080/"
        },
        "id": "Q1y03NUqFfDO",
        "outputId": "709fd656-5322-4470-e763-3f6926339a4f"
      },
      "execution_count": 21,
      "outputs": [
        {
          "output_type": "stream",
          "name": "stdout",
          "text": [
            "+-------------------+-------+--------+------+------------------+\n",
            "|                 dt|    lat|     lon|  base|          features|\n",
            "+-------------------+-------+--------+------+------------------+\n",
            "|2014-08-01 00:00:00| 40.729|-73.9422|B02598| [40.729,-73.9422]|\n",
            "|2014-08-01 00:00:00|40.7476|-73.9871|B02598|[40.7476,-73.9871]|\n",
            "|2014-08-01 00:00:00|40.7424|-74.0044|B02598|[40.7424,-74.0044]|\n",
            "|2014-08-01 00:00:00| 40.751|-73.9869|B02598| [40.751,-73.9869]|\n",
            "|2014-08-01 00:00:00|40.7406|-73.9902|B02598|[40.7406,-73.9902]|\n",
            "+-------------------+-------+--------+------+------------------+\n",
            "only showing top 5 rows\n",
            "\n"
          ]
        }
      ]
    },
    {
      "cell_type": "markdown",
      "source": [
        "### Split into Training and Testing Set:"
      ],
      "metadata": {
        "id": "52e7rVEKxtnT"
      }
    },
    {
      "cell_type": "code",
      "source": [
        "train_df, test_df = uber_assembled_df.randomSplit([0.7, 0.3], seed=rnd_seed)"
      ],
      "metadata": {
        "id": "qsn5fR_KFi46"
      },
      "execution_count": 22,
      "outputs": []
    },
    {
      "cell_type": "code",
      "source": [
        "train_df.cache()\n",
        "test_df.cache()"
      ],
      "metadata": {
        "colab": {
          "base_uri": "https://localhost:8080/"
        },
        "id": "3NxcWNeUFnAC",
        "outputId": "98d47ce4-86d4-4ac3-9bc0-61583dde9385"
      },
      "execution_count": 23,
      "outputs": [
        {
          "output_type": "execute_result",
          "data": {
            "text/plain": [
              "DataFrame[dt: timestamp, lat: double, lon: double, base: string, features: vector]"
            ]
          },
          "metadata": {},
          "execution_count": 23
        },
        {
          "output_type": "execute_result",
          "data": {
            "text/plain": [
              "DataFrame[dt: timestamp, lat: double, lon: double, base: string, features: vector]"
            ]
          },
          "metadata": {},
          "execution_count": 23
        }
      ]
    },
    {
      "cell_type": "markdown",
      "source": [
        "Removing the not needed dataframes"
      ],
      "metadata": {
        "id": "JMcZ7WGEx2Tc"
      }
    },
    {
      "cell_type": "code",
      "source": [
        "uber_df.unpersist()\n",
        "uber_assembled_df.unpersist()"
      ],
      "metadata": {
        "colab": {
          "base_uri": "https://localhost:8080/"
        },
        "id": "XPhJ33ntFph7",
        "outputId": "86857483-7e7b-44c9-a24d-8c7ac7ce0092"
      },
      "execution_count": 24,
      "outputs": [
        {
          "output_type": "execute_result",
          "data": {
            "text/plain": [
              "DataFrame[dt: timestamp, lat: double, lon: double, base: string]"
            ]
          },
          "metadata": {},
          "execution_count": 24
        },
        {
          "output_type": "execute_result",
          "data": {
            "text/plain": [
              "DataFrame[dt: timestamp, lat: double, lon: double, base: string, features: vector]"
            ]
          },
          "metadata": {},
          "execution_count": 24
        }
      ]
    },
    {
      "cell_type": "code",
      "source": [
        "uber_df.show(5)"
      ],
      "metadata": {
        "colab": {
          "base_uri": "https://localhost:8080/"
        },
        "id": "BdvTGEcMMFvt",
        "outputId": "84417941-ea89-43da-c5c5-d62b008d015a"
      },
      "execution_count": 62,
      "outputs": [
        {
          "output_type": "stream",
          "name": "stdout",
          "text": [
            "+-------------------+-------+--------+------+\n",
            "|                 dt|    lat|     lon|  base|\n",
            "+-------------------+-------+--------+------+\n",
            "|2014-08-01 00:00:00| 40.729|-73.9422|B02598|\n",
            "|2014-08-01 00:00:00|40.7476|-73.9871|B02598|\n",
            "|2014-08-01 00:00:00|40.7424|-74.0044|B02598|\n",
            "|2014-08-01 00:00:00| 40.751|-73.9869|B02598|\n",
            "|2014-08-01 00:00:00|40.7406|-73.9902|B02598|\n",
            "+-------------------+-------+--------+------+\n",
            "only showing top 5 rows\n",
            "\n"
          ]
        }
      ]
    },
    {
      "cell_type": "markdown",
      "source": [
        "**# K-Means Clustering**"
      ],
      "metadata": {
        "id": "OIVGMiS_x6hR"
      }
    },
    {
      "cell_type": "markdown",
      "source": [
        "k-means is one of the most popular clustering algorithms. In this algorithm, a user-specified number of clusters (k) are randomly assigned to different points in the dataset.\n",
        "\n",
        "Choosing the right value for k is an extremely important aspect of using this algorithm successfully. There is no real prescription for the number of clusters you need, so we will likely have to experiment with different values and consider what we would like the end result to be."
      ],
      "metadata": {
        "id": "gee8BFVvzL6g"
      }
    },
    {
      "cell_type": "code",
      "source": [
        "from pyspark.ml.clustering import KMeans\n",
        "from pyspark.ml.evaluation import ClusteringEvaluator"
      ],
      "metadata": {
        "id": "LvDBXw1XIElM"
      },
      "execution_count": 25,
      "outputs": []
    },
    {
      "cell_type": "markdown",
      "source": [
        "Train k-Means:"
      ],
      "metadata": {
        "id": "e8aCu8ZpzfSY"
      }
    },
    {
      "cell_type": "code",
      "source": [
        "kmeans = KMeans(k=8, initMode='k-means||', featuresCol='features', predictionCol='cluster', maxIter=10)"
      ],
      "metadata": {
        "id": "873vp_4vGMAT"
      },
      "execution_count": 26,
      "outputs": []
    },
    {
      "cell_type": "code",
      "source": [
        "kmModel = kmeans.fit(train_df)"
      ],
      "metadata": {
        "id": "yHEYSvvMGQrU"
      },
      "execution_count": 27,
      "outputs": []
    },
    {
      "cell_type": "code",
      "source": [
        "print(\"KMeans Cluster Centers: \")\n",
        "for center in kmModel.clusterCenters():\n",
        "    print(center)"
      ],
      "metadata": {
        "colab": {
          "base_uri": "https://localhost:8080/"
        },
        "id": "7wn5uD2oGSbl",
        "outputId": "131fdbee-d1a3-48a4-cab8-6f1548940e6f"
      },
      "execution_count": 28,
      "outputs": [
        {
          "output_type": "stream",
          "name": "stdout",
          "text": [
            "KMeans Cluster Centers: \n",
            "[ 40.7611 -73.8722]\n",
            "[ 40.7693 -73.97  ]\n",
            "[ 40.6865 -73.9639]\n",
            "[ 40.766  -73.4801]\n",
            "[ 40.905  -73.8711]\n",
            "[ 40.6562 -73.7797]\n",
            "[ 40.7324 -73.9971]\n",
            "[ 40.6997 -74.2005]\n"
          ]
        }
      ]
    },
    {
      "cell_type": "markdown",
      "source": [
        "Predicting"
      ],
      "metadata": {
        "id": "Rlz2FV2yzn0Y"
      }
    },
    {
      "cell_type": "code",
      "source": [
        "test_preds = kmModel.transform(test_df)\n",
        "test_preds.cache()"
      ],
      "metadata": {
        "colab": {
          "base_uri": "https://localhost:8080/"
        },
        "id": "eg3-guX_GT2u",
        "outputId": "4f3825bc-e8d5-403d-e66d-3d7dbf5d2eb7"
      },
      "execution_count": 29,
      "outputs": [
        {
          "output_type": "execute_result",
          "data": {
            "text/plain": [
              "DataFrame[dt: timestamp, lat: double, lon: double, base: string, features: vector, cluster: int]"
            ]
          },
          "metadata": {},
          "execution_count": 29
        }
      ]
    },
    {
      "cell_type": "code",
      "source": [
        "test_preds.show(5)"
      ],
      "metadata": {
        "colab": {
          "base_uri": "https://localhost:8080/"
        },
        "id": "yZUzztZnHWDv",
        "outputId": "36c3b481-2d02-4211-f57f-951e231301ce"
      },
      "execution_count": 30,
      "outputs": [
        {
          "output_type": "stream",
          "name": "stdout",
          "text": [
            "+-------------------+-------+--------+------+------------------+-------+\n",
            "|                 dt|    lat|     lon|  base|          features|cluster|\n",
            "+-------------------+-------+--------+------+------------------+-------+\n",
            "|2014-08-01 00:00:00|40.6754| -74.017|B02682| [40.6754,-74.017]|      2|\n",
            "|2014-08-01 00:00:00|40.6982|-73.9669|B02617|[40.6982,-73.9669]|      2|\n",
            "|2014-08-01 00:00:00|40.7063|-73.9223|B02617|[40.7063,-73.9223]|      2|\n",
            "|2014-08-01 00:00:00|40.7134|-74.0091|B02682|[40.7134,-74.0091]|      6|\n",
            "|2014-08-01 00:00:00|40.7303|-74.0029|B02682|[40.7303,-74.0029]|      6|\n",
            "+-------------------+-------+--------+------+------------------+-------+\n",
            "only showing top 5 rows\n",
            "\n"
          ]
        }
      ]
    },
    {
      "cell_type": "markdown",
      "source": [
        "k-means includes a summary class that we can use to evaluate our model. This class provides some common measures for k-means success (whether these apply to our problem set is another question). The k-means summary includes information about the clusters created, as well as their relative sizes (number of examples)."
      ],
      "metadata": {
        "id": "Ks-o0GsmzuGQ"
      }
    },
    {
      "cell_type": "code",
      "source": [
        "print(kmModel.summary.clusterSizes)"
      ],
      "metadata": {
        "colab": {
          "base_uri": "https://localhost:8080/"
        },
        "id": "1ULLHQSMHYlF",
        "outputId": "cdbc28bd-3472-41bb-e540-104bf0ce580e"
      },
      "execution_count": 31,
      "outputs": [
        {
          "output_type": "stream",
          "name": "stdout",
          "text": [
            "[26431, 185757, 87002, 1657, 7060, 18311, 248176, 6055]\n"
          ]
        }
      ]
    },
    {
      "cell_type": "markdown",
      "source": [
        "# Let's do some DATA EXPLORATION using spark SQL\n",
        "\n",
        "We can use Spark SQL to explore the dataset. Here are some example queries using the Spark SQL."
      ],
      "metadata": {
        "id": "FymC6Mbwz5xa"
      }
    },
    {
      "cell_type": "code",
      "source": [
        "test_preds.createOrReplaceTempView(\"test_preds\")"
      ],
      "metadata": {
        "id": "AB40tSQ0HgW3"
      },
      "execution_count": 32,
      "outputs": []
    },
    {
      "cell_type": "code",
      "source": [
        "import re\n",
        "\n",
        "def strip_margin(text):\n",
        "    nomargin = re.sub('\\n[ \\t]*\\|', ' ', text)\n",
        "    trimmed = re.sub('\\s+', ' ', nomargin)\n",
        "    return trimmed"
      ],
      "metadata": {
        "id": "fdlvD9NgJV72"
      },
      "execution_count": 33,
      "outputs": []
    },
    {
      "cell_type": "markdown",
      "source": [
        "Suppose we want to answer:\n",
        "## Which hours of the day and which cluster had the highest number of pickups?"
      ],
      "metadata": {
        "id": "iblfWepZ0GGa"
      }
    },
    {
      "cell_type": "code",
      "source": [
        "sql_result_df = spark.sql(strip_margin(\n",
        "                        \"\"\"SELECT \n",
        "                          |    HOUR(dt) AS hour, \n",
        "                          |    cluster,\n",
        "                          |    COUNT(*) as count\n",
        "                          |FROM test_preds\n",
        "                          |GROUP BY hour, cluster\n",
        "                          |ORDER BY count DESC\n",
        "                        \"\"\"))\n",
        "sql_result_df.cache()"
      ],
      "metadata": {
        "colab": {
          "base_uri": "https://localhost:8080/"
        },
        "id": "yUsiWvbUJYPM",
        "outputId": "38a12bfc-2ecd-439c-a678-5758c8236651"
      },
      "execution_count": 34,
      "outputs": [
        {
          "output_type": "execute_result",
          "data": {
            "text/plain": [
              "DataFrame[hour: int, cluster: int, count: bigint]"
            ]
          },
          "metadata": {},
          "execution_count": 34
        }
      ]
    },
    {
      "cell_type": "code",
      "source": [
        "sql_result_df.show(5)"
      ],
      "metadata": {
        "colab": {
          "base_uri": "https://localhost:8080/"
        },
        "id": "HzJrHGxHJb0l",
        "outputId": "a6fac541-c1dd-4de8-d563-63036c0c3dda"
      },
      "execution_count": 35,
      "outputs": [
        {
          "output_type": "stream",
          "name": "stdout",
          "text": [
            "+----+-------+-----+\n",
            "|hour|cluster|count|\n",
            "+----+-------+-----+\n",
            "|  17|      6| 7814|\n",
            "|  18|      6| 7334|\n",
            "|  16|      6| 7007|\n",
            "|  19|      6| 6938|\n",
            "|  21|      6| 6798|\n",
            "+----+-------+-----+\n",
            "only showing top 5 rows\n",
            "\n"
          ]
        }
      ]
    },
    {
      "cell_type": "markdown",
      "source": [
        "The graph will help us know the hours with maximum number of pickups."
      ],
      "metadata": {
        "id": "owRXjduV0PYX"
      }
    },
    {
      "cell_type": "code",
      "source": [
        "plt.figure(figsize=(18,4))\n",
        "sns.barplot(x=\"hour\", y=\"count\", hue=\"cluster\", data=sql_result_df.toPandas());"
      ],
      "metadata": {
        "colab": {
          "base_uri": "https://localhost:8080/",
          "height": 284
        },
        "id": "PMp98BaAJhxB",
        "outputId": "de14e9e3-5ba4-495f-a810-9013550ec079"
      },
      "execution_count": 36,
      "outputs": [
        {
          "output_type": "display_data",
          "data": {
            "image/png": "[encoded data removed]",
            "text/plain": [
              "<Figure size 1296x288 with 1 Axes>"
            ]
          },
          "metadata": {
            "image/png": {
              "width": 1072,
              "height": 267
            },
            "needs_background": "light"
          }
        }
      ]
    },
    {
      "cell_type": "markdown",
      "source": [
        "## How many pickups occurred in each cluster?"
      ],
      "metadata": {
        "id": "bF__0E7v0vH_"
      }
    },
    {
      "cell_type": "code",
      "source": [
        "sql_result_df = spark.sql(strip_margin(\n",
        "                        \"\"\"SELECT cluster, COUNT(cluster) AS count\n",
        "                          |FROM test_preds\n",
        "                          |GROUP BY cluster\n",
        "                          |ORDER BY cluster\n",
        "                        \"\"\"))\n",
        "sql_result_df.cache()"
      ],
      "metadata": {
        "colab": {
          "base_uri": "https://localhost:8080/"
        },
        "id": "z32cargzKAy6",
        "outputId": "3a60a56a-bd8c-4325-fb87-fe853a225620"
      },
      "execution_count": 37,
      "outputs": [
        {
          "output_type": "execute_result",
          "data": {
            "text/plain": [
              "DataFrame[cluster: int, count: bigint]"
            ]
          },
          "metadata": {},
          "execution_count": 37
        }
      ]
    },
    {
      "cell_type": "code",
      "source": [
        "sql_result_df.show(5)"
      ],
      "metadata": {
        "colab": {
          "base_uri": "https://localhost:8080/"
        },
        "id": "fP_566U9KRpF",
        "outputId": "33257a1d-5eae-41de-dcbb-f5a35e9a08ff"
      },
      "execution_count": 38,
      "outputs": [
        {
          "output_type": "stream",
          "name": "stdout",
          "text": [
            "+-------+-----+\n",
            "|cluster|count|\n",
            "+-------+-----+\n",
            "|      0|11378|\n",
            "|      1|79244|\n",
            "|      2|37293|\n",
            "|      3|  707|\n",
            "|      4| 3016|\n",
            "+-------+-----+\n",
            "only showing top 5 rows\n",
            "\n"
          ]
        }
      ]
    },
    {
      "cell_type": "markdown",
      "source": [
        "Cluster 3 has maximum pickups"
      ],
      "metadata": {
        "id": "z4Msc-940ztY"
      }
    },
    {
      "cell_type": "code",
      "source": [
        "plt.figure(figsize=(18,4))\n",
        "sns.barplot(x=\"cluster\", y=\"count\", data=sql_result_df.toPandas())\n",
        "plt.title(\"Total Pickups By Cluster\");"
      ],
      "metadata": {
        "colab": {
          "base_uri": "https://localhost:8080/",
          "height": 299
        },
        "id": "_tXBiQiCKY3m",
        "outputId": "8957fa59-ba7a-4da7-dda0-19d4a93162b8"
      },
      "execution_count": 39,
      "outputs": [
        {
          "output_type": "display_data",
          "data": {
            "image/png": "[encoded data removed]",
            "text/plain": [
              "<Figure size 1296x288 with 1 Axes>"
            ]
          },
          "metadata": {
            "image/png": {
              "width": 1086,
              "height": 282
            },
            "needs_background": "light"
          }
        }
      ]
    },
    {
      "cell_type": "markdown",
      "source": [
        "## How many pickups occurred in each hour?"
      ],
      "metadata": {
        "id": "2sFi2SAa0_aw"
      }
    },
    {
      "cell_type": "code",
      "source": [
        "sql_result_df = spark.sql(strip_margin(\n",
        "                        \"\"\"SELECT \n",
        "                          |    HOUR(dt) AS hour, \n",
        "                          |    COUNT(cluster) AS count\n",
        "                          |FROM test_preds\n",
        "                          |GROUP BY hour\n",
        "                          |ORDER BY hour\n",
        "                        \"\"\"))\n",
        "sql_result_df.cache()"
      ],
      "metadata": {
        "colab": {
          "base_uri": "https://localhost:8080/"
        },
        "id": "X1wiHCUlKblx",
        "outputId": "2a73d895-589b-4572-8507-62a780041638"
      },
      "execution_count": 40,
      "outputs": [
        {
          "output_type": "execute_result",
          "data": {
            "text/plain": [
              "DataFrame[hour: int, count: bigint]"
            ]
          },
          "metadata": {},
          "execution_count": 40
        }
      ]
    },
    {
      "cell_type": "code",
      "source": [
        "sql_result_df.show(5)"
      ],
      "metadata": {
        "colab": {
          "base_uri": "https://localhost:8080/"
        },
        "id": "YBwtQ0LSKiry",
        "outputId": "32f390d7-9aae-42ca-92ae-5bd0e068f1eb"
      },
      "execution_count": 41,
      "outputs": [
        {
          "output_type": "stream",
          "name": "stdout",
          "text": [
            "+----+-----+\n",
            "|hour|count|\n",
            "+----+-----+\n",
            "|   0| 6511|\n",
            "|   1| 4320|\n",
            "|   2| 3010|\n",
            "|   3| 3044|\n",
            "|   4| 3579|\n",
            "+----+-----+\n",
            "only showing top 5 rows\n",
            "\n"
          ]
        }
      ]
    },
    {
      "cell_type": "code",
      "source": [
        "plt.figure(figsize=(18,4))\n",
        "sns.barplot(x=\"hour\", y=\"count\", data=sql_result_df.toPandas())\n",
        "plt.title(\"Total Pickups By Hour\");"
      ],
      "metadata": {
        "colab": {
          "base_uri": "https://localhost:8080/",
          "height": 299
        },
        "id": "LCWWB8CeKlZZ",
        "outputId": "a06cb132-a28d-4c47-857f-2042883bd918"
      },
      "execution_count": 42,
      "outputs": [
        {
          "output_type": "display_data",
          "data": {
            "image/png": "[encoded data removed]",
            "text/plain": [
              "<Figure size 1296x288 with 1 Axes>"
            ]
          },
          "metadata": {
            "image/png": {
              "width": 1079,
              "height": 282
            },
            "needs_background": "light"
          }
        }
      ]
    },
    {
      "cell_type": "markdown",
      "source": [
        "## Gaussian Mixture Models \n",
        "\n",
        "Gaussian mixture models (GMM) are another clustering algorithm that try to group data by reducing the sum of squared distances from the center of the cluster. Gaussian mixture models assume that each cluster produces data based upon random draws from a Gaussian distribution. "
      ],
      "metadata": {
        "id": "44EVSlgN1GJ-"
      }
    },
    {
      "cell_type": "code",
      "source": [
        "gmm = GaussianMixture(featuresCol='features', predictionCol='cluster', k=8)"
      ],
      "metadata": {
        "id": "4l88TfhoKnf7"
      },
      "execution_count": 43,
      "outputs": []
    },
    {
      "cell_type": "code",
      "source": [
        "gmm.explainParams()"
      ],
      "metadata": {
        "colab": {
          "base_uri": "https://localhost:8080/",
          "height": 140
        },
        "id": "9OHZbcqNN-VJ",
        "outputId": "54afe45c-7757-4f4a-8df6-ca40538a90f4"
      },
      "execution_count": 44,
      "outputs": [
        {
          "output_type": "execute_result",
          "data": {
            "application/vnd.google.colaboratory.intrinsic+json": {
              "type": "string"
            },
            "text/plain": [
              "'aggregationDepth: suggested depth for treeAggregate (>= 2). (default: 2)\\nfeaturesCol: features column name. (default: features, current: features)\\nk: Number of independent Gaussians in the mixture model. Must be > 1. (default: 2, current: 8)\\nmaxIter: max number of iterations (>= 0). (default: 100)\\npredictionCol: prediction column name. (default: prediction, current: cluster)\\nprobabilityCol: Column name for predicted class conditional probabilities. Note: Not all models output well-calibrated probability estimates! These probabilities should be treated as confidences, not precise probabilities. (default: probability)\\nseed: random seed. (default: -7930192455587573950)\\ntol: the convergence tolerance for iterative algorithms (>= 0). (default: 0.01)\\nweightCol: weight column name. If this is not set or empty, we treat all instance weights as 1.0. (undefined)'"
            ]
          },
          "metadata": {},
          "execution_count": 44
        }
      ]
    },
    {
      "cell_type": "code",
      "source": [
        "gmmModel = gmm.fit(train_df)"
      ],
      "metadata": {
        "id": "CuLfOjCIOAOQ"
      },
      "execution_count": 45,
      "outputs": []
    },
    {
      "cell_type": "code",
      "source": [
        "gmmModel.transform(test_df).show(5)"
      ],
      "metadata": {
        "colab": {
          "base_uri": "https://localhost:8080/"
        },
        "id": "yCKuDk0WOCO-",
        "outputId": "f46036bb-b059-409d-de5a-758f3e53238e"
      },
      "execution_count": 46,
      "outputs": [
        {
          "output_type": "stream",
          "name": "stdout",
          "text": [
            "+-------------------+-------+--------+------+------------------+--------------------+-------+\n",
            "|                 dt|    lat|     lon|  base|          features|         probability|cluster|\n",
            "+-------------------+-------+--------+------+------------------+--------------------+-------+\n",
            "|2014-08-01 00:00:00|40.6754| -74.017|B02682| [40.6754,-74.017]|[0.01651681562722...|      1|\n",
            "|2014-08-01 00:00:00|40.6982|-73.9669|B02617|[40.6982,-73.9669]|[0.04109997177197...|      5|\n",
            "|2014-08-01 00:00:00|40.7063|-73.9223|B02617|[40.7063,-73.9223]|[0.28313398784207...|      5|\n",
            "|2014-08-01 00:00:00|40.7134|-74.0091|B02682|[40.7134,-74.0091]|[0.01263642997046...|      4|\n",
            "|2014-08-01 00:00:00|40.7303|-74.0029|B02682|[40.7303,-74.0029]|[0.00900845633139...|      4|\n",
            "+-------------------+-------+--------+------+------------------+--------------------+-------+\n",
            "only showing top 5 rows\n",
            "\n"
          ]
        }
      ]
    },
    {
      "cell_type": "markdown",
      "source": [
        "# Gaussian Mixture Model Summary\n",
        "Like our k-means clustering algorithm, Gaussian mixture models include a summary class to help with model evaluation. This includes information about the clusters created, like the weights, the means, and the covariance of the Gaussian mixture, which can help us learn more about the underlying structure inside of our data:"
      ],
      "metadata": {
        "id": "-bO7d7PM4phn"
      }
    },
    {
      "cell_type": "code",
      "source": [
        "gmmModel.weights"
      ],
      "metadata": {
        "colab": {
          "base_uri": "https://localhost:8080/"
        },
        "id": "fgMEO3BVO6B_",
        "outputId": "21fa1645-05ea-49c2-c700-2458b7161be6"
      },
      "execution_count": 47,
      "outputs": [
        {
          "output_type": "execute_result",
          "data": {
            "text/plain": [
              "[0.06344261362392324,\n",
              " 0.0359304395523446,\n",
              " 0.07520962320323114,\n",
              " 0.10691410992080919,\n",
              " 0.5255596609254812,\n",
              " 0.14360127260109098,\n",
              " 0.019438069333575034,\n",
              " 0.02990421083954458]"
            ]
          },
          "metadata": {},
          "execution_count": 47
        }
      ]
    },
    {
      "cell_type": "code",
      "source": [
        "gmmModel.gaussiansDF.limit(5).toPandas()"
      ],
      "metadata": {
        "colab": {
          "base_uri": "https://localhost:8080/",
          "height": 261
        },
        "id": "bN4Hh1qVPBRy",
        "outputId": "988c49c9-5072-45f1-d2e6-57171cb06d8d"
      },
      "execution_count": 48,
      "outputs": [
        {
          "output_type": "stream",
          "name": "stderr",
          "text": [
            "/usr/local/lib/python3.7/dist-packages/pyspark/sql/context.py:127: FutureWarning: Deprecated in 3.0.0. Use SparkSession.builder.getOrCreate() instead.\n",
            "  FutureWarning\n"
          ]
        },
        {
          "output_type": "execute_result",
          "data": {
            "text/html": [
              "\n",
              "  <div id=\"df-70d58ca5-d387-4c20-a770-2bef812de917\">\n",
              "    <div class=\"colab-df-container\">\n",
              "      <div>\n",
              "<style scoped>\n",
              "    .dataframe tbody tr th:only-of-type {\n",
              "        vertical-align: middle;\n",
              "    }\n",
              "\n",
              "    .dataframe tbody tr th {\n",
              "        vertical-align: top;\n",
              "    }\n",
              "\n",
              "    .dataframe thead th {\n",
              "        text-align: right;\n",
              "    }\n",
              "</style>\n",
              "<table border=\"1\" class=\"dataframe\">\n",
              "  <thead>\n",
              "    <tr style=\"text-align: right;\">\n",
              "      <th></th>\n",
              "      <th>mean</th>\n",
              "      <th>cov</th>\n",
              "    </tr>\n",
              "  </thead>\n",
              "  <tbody>\n",
              "    <tr>\n",
              "      <th>0</th>\n",
              "      <td>[40.740014200830174, -73.93463301211749]</td>\n",
              "      <td>DenseMatrix([[0.0008, 0.    ],\\n             [0.    , 0.0046]])</td>\n",
              "    </tr>\n",
              "    <tr>\n",
              "      <th>1</th>\n",
              "      <td>[40.657253214254254, -73.88341579302305]</td>\n",
              "      <td>DenseMatrix([[ 0.0004, -0.0029],\\n             [-0.0029,  0.0246]])</td>\n",
              "    </tr>\n",
              "    <tr>\n",
              "      <th>2</th>\n",
              "      <td>[40.76726598643045, -73.96701765053164]</td>\n",
              "      <td>DenseMatrix([[0.0031, 0.0013],\\n             [0.0013, 0.0006]])</td>\n",
              "    </tr>\n",
              "    <tr>\n",
              "      <th>3</th>\n",
              "      <td>[40.76335485981282, -73.96624313740337]</td>\n",
              "      <td>DenseMatrix([[0.0001, 0.0001],\\n             [0.0001, 0.0001]])</td>\n",
              "    </tr>\n",
              "    <tr>\n",
              "      <th>4</th>\n",
              "      <td>[40.741652398419426, -73.99258653908463]</td>\n",
              "      <td>DenseMatrix([[0.0004, 0.0002],\\n             [0.0002, 0.0001]])</td>\n",
              "    </tr>\n",
              "  </tbody>\n",
              "</table>\n",
              "</div>\n",
              "      <button class=\"colab-df-convert\" onclick=\"convertToInteractive('df-70d58ca5-d387-4c20-a770-2bef812de917')\"\n",
              "              title=\"Convert this dataframe to an interactive table.\"\n",
              "              style=\"display:none;\">\n",
              "        \n",
              "  <svg xmlns=\"http://www.w3.org/2000/svg\" height=\"24px\"viewBox=\"0 0 24 24\"\n",
              "       width=\"24px\">\n",
              "    <path d=\"M0 0h24v24H0V0z\" fill=\"none\"/>\n",
              "    <path d=\"M18.56 5.44l.94 2.06.94-2.06 2.06-.94-2.06-.94-.94-2.06-.94 2.06-2.06.94zm-11 1L8.5 8.5l.94-2.06 2.06-.94-2.06-.94L8.5 2.5l-.94 2.06-2.06.94zm10 10l.94 2.06.94-2.06 2.06-.94-2.06-.94-.94-2.06-.94 2.06-2.06.94z\"/><path d=\"M17.41 7.96l-1.37-1.37c-.4-.4-.92-.59-1.43-.59-.52 0-1.04.2-1.43.59L10.3 9.45l-7.72 7.72c-.78.78-.78 2.05 0 2.83L4 21.41c.39.39.9.59 1.41.59.51 0 1.02-.2 1.41-.59l7.78-7.78 2.81-2.81c.8-.78.8-2.07 0-2.86zM5.41 20L4 18.59l7.72-7.72 1.47 1.35L5.41 20z\"/>\n",
              "  </svg>\n",
              "      </button>\n",
              "      \n",
              "  <style>\n",
              "    .colab-df-container {\n",
              "      display:flex;\n",
              "      flex-wrap:wrap;\n",
              "      gap: 12px;\n",
              "    }\n",
              "\n",
              "    .colab-df-convert {\n",
              "      background-color: #E8F0FE;\n",
              "      border: none;\n",
              "      border-radius: 50%;\n",
              "      cursor: pointer;\n",
              "      display: none;\n",
              "      fill: #1967D2;\n",
              "      height: 32px;\n",
              "      padding: 0 0 0 0;\n",
              "      width: 32px;\n",
              "    }\n",
              "\n",
              "    .colab-df-convert:hover {\n",
              "      background-color: #E2EBFA;\n",
              "      box-shadow: 0px 1px 2px rgba(60, 64, 67, 0.3), 0px 1px 3px 1px rgba(60, 64, 67, 0.15);\n",
              "      fill: #174EA6;\n",
              "    }\n",
              "\n",
              "    [theme=dark] .colab-df-convert {\n",
              "      background-color: #3B4455;\n",
              "      fill: #D2E3FC;\n",
              "    }\n",
              "\n",
              "    [theme=dark] .colab-df-convert:hover {\n",
              "      background-color: #434B5C;\n",
              "      box-shadow: 0px 1px 3px 1px rgba(0, 0, 0, 0.15);\n",
              "      filter: drop-shadow(0px 1px 2px rgba(0, 0, 0, 0.3));\n",
              "      fill: #FFFFFF;\n",
              "    }\n",
              "  </style>\n",
              "\n",
              "      <script>\n",
              "        const buttonEl =\n",
              "          document.querySelector('#df-70d58ca5-d387-4c20-a770-2bef812de917 button.colab-df-convert');\n",
              "        buttonEl.style.display =\n",
              "          google.colab.kernel.accessAllowed ? 'block' : 'none';\n",
              "\n",
              "        async function convertToInteractive(key) {\n",
              "          const element = document.querySelector('#df-70d58ca5-d387-4c20-a770-2bef812de917');\n",
              "          const dataTable =\n",
              "            await google.colab.kernel.invokeFunction('convertToInteractive',\n",
              "                                                     [key], {});\n",
              "          if (!dataTable) return;\n",
              "\n",
              "          const docLinkHtml = 'Like what you see? Visit the ' +\n",
              "            '<a target=\"_blank\" href=https://colab.research.google.com/notebooks/data_table.ipynb>data table notebook</a>'\n",
              "            + ' to learn more about interactive tables.';\n",
              "          element.innerHTML = '';\n",
              "          dataTable['output_type'] = 'display_data';\n",
              "          await google.colab.output.renderOutput(dataTable, element);\n",
              "          const docLink = document.createElement('div');\n",
              "          docLink.innerHTML = docLinkHtml;\n",
              "          element.appendChild(docLink);\n",
              "        }\n",
              "      </script>\n",
              "    </div>\n",
              "  </div>\n",
              "  "
            ],
            "text/plain": [
              "                                       mean  \\\n",
              "0  [40.740014200830174, -73.93463301211749]   \n",
              "1  [40.657253214254254, -73.88341579302305]   \n",
              "2   [40.76726598643045, -73.96701765053164]   \n",
              "3   [40.76335485981282, -73.96624313740337]   \n",
              "4  [40.741652398419426, -73.99258653908463]   \n",
              "\n",
              "                                                                   cov  \n",
              "0      DenseMatrix([[0.0008, 0.    ],\\n             [0.    , 0.0046]])  \n",
              "1  DenseMatrix([[ 0.0004, -0.0029],\\n             [-0.0029,  0.0246]])  \n",
              "2      DenseMatrix([[0.0031, 0.0013],\\n             [0.0013, 0.0006]])  \n",
              "3      DenseMatrix([[0.0001, 0.0001],\\n             [0.0001, 0.0001]])  \n",
              "4      DenseMatrix([[0.0004, 0.0002],\\n             [0.0002, 0.0001]])  "
            ]
          },
          "metadata": {},
          "execution_count": 48
        }
      ]
    },
    {
      "cell_type": "code",
      "source": [
        "print(gmmModel.summary.clusterSizes)"
      ],
      "metadata": {
        "colab": {
          "base_uri": "https://localhost:8080/"
        },
        "id": "uqevBrBbPOtw",
        "outputId": "6247ffa4-6c56-4c18-801d-6eb8af4c04ea"
      },
      "execution_count": 49,
      "outputs": [
        {
          "output_type": "stream",
          "name": "stdout",
          "text": [
            "[26123, 20524, 21304, 67820, 332129, 87621, 11343, 13585]\n"
          ]
        }
      ]
    },
    {
      "cell_type": "code",
      "source": [
        "gmmModel.summary.cluster.show(10)"
      ],
      "metadata": {
        "colab": {
          "base_uri": "https://localhost:8080/"
        },
        "id": "Jpow1zjqPRMp",
        "outputId": "f8aa7f15-435c-4a6b-c86d-76f902adb82f"
      },
      "execution_count": 50,
      "outputs": [
        {
          "output_type": "stream",
          "name": "stderr",
          "text": [
            "/usr/local/lib/python3.7/dist-packages/pyspark/sql/context.py:127: FutureWarning: Deprecated in 3.0.0. Use SparkSession.builder.getOrCreate() instead.\n",
            "  FutureWarning\n"
          ]
        },
        {
          "output_type": "stream",
          "name": "stdout",
          "text": [
            "+-------+\n",
            "|cluster|\n",
            "+-------+\n",
            "|      7|\n",
            "|      7|\n",
            "|      1|\n",
            "|      5|\n",
            "|      0|\n",
            "|      5|\n",
            "|      4|\n",
            "|      4|\n",
            "|      5|\n",
            "|      4|\n",
            "+-------+\n",
            "only showing top 10 rows\n",
            "\n"
          ]
        }
      ]
    },
    {
      "cell_type": "code",
      "source": [
        "gmmModel.summary.probability.limit(5).toPandas()"
      ],
      "metadata": {
        "colab": {
          "base_uri": "https://localhost:8080/",
          "height": 391
        },
        "id": "uBuqAeEFPS6c",
        "outputId": "eac3be52-d075-4acd-90f7-e7655db5c36c"
      },
      "execution_count": 51,
      "outputs": [
        {
          "output_type": "stream",
          "name": "stderr",
          "text": [
            "/usr/local/lib/python3.7/dist-packages/pyspark/sql/context.py:127: FutureWarning: Deprecated in 3.0.0. Use SparkSession.builder.getOrCreate() instead.\n",
            "  FutureWarning\n"
          ]
        },
        {
          "output_type": "execute_result",
          "data": {
            "text/html": [
              "\n",
              "  <div id=\"df-f0a78dad-9a0b-4d2d-beac-e93c20fa8fbb\">\n",
              "    <div class=\"colab-df-container\">\n",
              "      <div>\n",
              "<style scoped>\n",
              "    .dataframe tbody tr th:only-of-type {\n",
              "        vertical-align: middle;\n",
              "    }\n",
              "\n",
              "    .dataframe tbody tr th {\n",
              "        vertical-align: top;\n",
              "    }\n",
              "\n",
              "    .dataframe thead th {\n",
              "        text-align: right;\n",
              "    }\n",
              "</style>\n",
              "<table border=\"1\" class=\"dataframe\">\n",
              "  <thead>\n",
              "    <tr style=\"text-align: right;\">\n",
              "      <th></th>\n",
              "      <th>probability</th>\n",
              "    </tr>\n",
              "  </thead>\n",
              "  <tbody>\n",
              "    <tr>\n",
              "      <th>0</th>\n",
              "      <td>[7.059804429960573e-14, 7.059804429960573e-14, 7.059804636572728e-14, 7.059804429960573e-14, 7.059804429960573e-14, 7.059804429960573e-14, 7.059804429960573e-14, 0.9999999999995058]</td>\n",
              "    </tr>\n",
              "    <tr>\n",
              "      <th>1</th>\n",
              "      <td>[7.059804429960573e-14, 7.059804429960573e-14, 7.059804636572728e-14, 7.059804429960573e-14, 7.059804429960573e-14, 7.059804429960573e-14, 7.059804429960573e-14, 0.9999999999995058]</td>\n",
              "    </tr>\n",
              "    <tr>\n",
              "      <th>2</th>\n",
              "      <td>[0.018698858175506813, 0.44357404596492267, 0.22188981733583626, 4.865836149360202e-17, 0.1972489783781144, 0.10906431964965188, 1.8068644022585925e-17, 0.009523980495968101]</td>\n",
              "    </tr>\n",
              "    <tr>\n",
              "      <th>3</th>\n",
              "      <td>[0.06290784610489784, 1.0908272273109552e-17, 6.912807042834943e-09, 1.090827227303344e-17, 3.6814924208005386e-15, 0.9302031855170729, 1.090827227303344e-17, 0.006888961465218409]</td>\n",
              "    </tr>\n",
              "    <tr>\n",
              "      <th>4</th>\n",
              "      <td>[0.5985069241089854, 8.654532440969709e-17, 8.834499609634277e-17, 8.654532440969709e-17, 8.65453244097164e-17, 0.34505198692237216, 8.654532440969709e-17, 0.05644108896864189]</td>\n",
              "    </tr>\n",
              "  </tbody>\n",
              "</table>\n",
              "</div>\n",
              "      <button class=\"colab-df-convert\" onclick=\"convertToInteractive('df-f0a78dad-9a0b-4d2d-beac-e93c20fa8fbb')\"\n",
              "              title=\"Convert this dataframe to an interactive table.\"\n",
              "              style=\"display:none;\">\n",
              "        \n",
              "  <svg xmlns=\"http://www.w3.org/2000/svg\" height=\"24px\"viewBox=\"0 0 24 24\"\n",
              "       width=\"24px\">\n",
              "    <path d=\"M0 0h24v24H0V0z\" fill=\"none\"/>\n",
              "    <path d=\"M18.56 5.44l.94 2.06.94-2.06 2.06-.94-2.06-.94-.94-2.06-.94 2.06-2.06.94zm-11 1L8.5 8.5l.94-2.06 2.06-.94-2.06-.94L8.5 2.5l-.94 2.06-2.06.94zm10 10l.94 2.06.94-2.06 2.06-.94-2.06-.94-.94-2.06-.94 2.06-2.06.94z\"/><path d=\"M17.41 7.96l-1.37-1.37c-.4-.4-.92-.59-1.43-.59-.52 0-1.04.2-1.43.59L10.3 9.45l-7.72 7.72c-.78.78-.78 2.05 0 2.83L4 21.41c.39.39.9.59 1.41.59.51 0 1.02-.2 1.41-.59l7.78-7.78 2.81-2.81c.8-.78.8-2.07 0-2.86zM5.41 20L4 18.59l7.72-7.72 1.47 1.35L5.41 20z\"/>\n",
              "  </svg>\n",
              "      </button>\n",
              "      \n",
              "  <style>\n",
              "    .colab-df-container {\n",
              "      display:flex;\n",
              "      flex-wrap:wrap;\n",
              "      gap: 12px;\n",
              "    }\n",
              "\n",
              "    .colab-df-convert {\n",
              "      background-color: #E8F0FE;\n",
              "      border: none;\n",
              "      border-radius: 50%;\n",
              "      cursor: pointer;\n",
              "      display: none;\n",
              "      fill: #1967D2;\n",
              "      height: 32px;\n",
              "      padding: 0 0 0 0;\n",
              "      width: 32px;\n",
              "    }\n",
              "\n",
              "    .colab-df-convert:hover {\n",
              "      background-color: #E2EBFA;\n",
              "      box-shadow: 0px 1px 2px rgba(60, 64, 67, 0.3), 0px 1px 3px 1px rgba(60, 64, 67, 0.15);\n",
              "      fill: #174EA6;\n",
              "    }\n",
              "\n",
              "    [theme=dark] .colab-df-convert {\n",
              "      background-color: #3B4455;\n",
              "      fill: #D2E3FC;\n",
              "    }\n",
              "\n",
              "    [theme=dark] .colab-df-convert:hover {\n",
              "      background-color: #434B5C;\n",
              "      box-shadow: 0px 1px 3px 1px rgba(0, 0, 0, 0.15);\n",
              "      filter: drop-shadow(0px 1px 2px rgba(0, 0, 0, 0.3));\n",
              "      fill: #FFFFFF;\n",
              "    }\n",
              "  </style>\n",
              "\n",
              "      <script>\n",
              "        const buttonEl =\n",
              "          document.querySelector('#df-f0a78dad-9a0b-4d2d-beac-e93c20fa8fbb button.colab-df-convert');\n",
              "        buttonEl.style.display =\n",
              "          google.colab.kernel.accessAllowed ? 'block' : 'none';\n",
              "\n",
              "        async function convertToInteractive(key) {\n",
              "          const element = document.querySelector('#df-f0a78dad-9a0b-4d2d-beac-e93c20fa8fbb');\n",
              "          const dataTable =\n",
              "            await google.colab.kernel.invokeFunction('convertToInteractive',\n",
              "                                                     [key], {});\n",
              "          if (!dataTable) return;\n",
              "\n",
              "          const docLinkHtml = 'Like what you see? Visit the ' +\n",
              "            '<a target=\"_blank\" href=https://colab.research.google.com/notebooks/data_table.ipynb>data table notebook</a>'\n",
              "            + ' to learn more about interactive tables.';\n",
              "          element.innerHTML = '';\n",
              "          dataTable['output_type'] = 'display_data';\n",
              "          await google.colab.output.renderOutput(dataTable, element);\n",
              "          const docLink = document.createElement('div');\n",
              "          docLink.innerHTML = docLinkHtml;\n",
              "          element.appendChild(docLink);\n",
              "        }\n",
              "      </script>\n",
              "    </div>\n",
              "  </div>\n",
              "  "
            ],
            "text/plain": [
              "                                                                                                                                                                             probability\n",
              "0  [7.059804429960573e-14, 7.059804429960573e-14, 7.059804636572728e-14, 7.059804429960573e-14, 7.059804429960573e-14, 7.059804429960573e-14, 7.059804429960573e-14, 0.9999999999995058]\n",
              "1  [7.059804429960573e-14, 7.059804429960573e-14, 7.059804636572728e-14, 7.059804429960573e-14, 7.059804429960573e-14, 7.059804429960573e-14, 7.059804429960573e-14, 0.9999999999995058]\n",
              "2         [0.018698858175506813, 0.44357404596492267, 0.22188981733583626, 4.865836149360202e-17, 0.1972489783781144, 0.10906431964965188, 1.8068644022585925e-17, 0.009523980495968101]\n",
              "3   [0.06290784610489784, 1.0908272273109552e-17, 6.912807042834943e-09, 1.090827227303344e-17, 3.6814924208005386e-15, 0.9302031855170729, 1.090827227303344e-17, 0.006888961465218409]\n",
              "4       [0.5985069241089854, 8.654532440969709e-17, 8.834499609634277e-17, 8.654532440969709e-17, 8.65453244097164e-17, 0.34505198692237216, 8.654532440969709e-17, 0.05644108896864189]"
            ]
          },
          "metadata": {},
          "execution_count": 51
        }
      ]
    },
    {
      "cell_type": "code",
      "source": [
        ""
      ],
      "metadata": {
        "id": "7pL3UJDdPXVi"
      },
      "execution_count": 51,
      "outputs": []
    }
  ]
}